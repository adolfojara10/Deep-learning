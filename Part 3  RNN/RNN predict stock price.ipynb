{
 "cells": [
  {
   "cell_type": "code",
   "execution_count": 1,
   "metadata": {},
   "outputs": [],
   "source": [
    "import numpy as np\n",
    "import pandas as pd \n",
    "import matplotlib.pyplot as plt\n",
    "import seaborn as sn\n",
    "sn.set()"
   ]
  },
  {
   "cell_type": "markdown",
   "metadata": {},
   "source": [
    "# Import the training set"
   ]
  },
  {
   "cell_type": "code",
   "execution_count": 2,
   "metadata": {},
   "outputs": [
    {
     "data": {
      "text/html": [
       "<div>\n",
       "<style scoped>\n",
       "    .dataframe tbody tr th:only-of-type {\n",
       "        vertical-align: middle;\n",
       "    }\n",
       "\n",
       "    .dataframe tbody tr th {\n",
       "        vertical-align: top;\n",
       "    }\n",
       "\n",
       "    .dataframe thead th {\n",
       "        text-align: right;\n",
       "    }\n",
       "</style>\n",
       "<table border=\"1\" class=\"dataframe\">\n",
       "  <thead>\n",
       "    <tr style=\"text-align: right;\">\n",
       "      <th></th>\n",
       "      <th>Date</th>\n",
       "      <th>Open</th>\n",
       "      <th>High</th>\n",
       "      <th>Low</th>\n",
       "      <th>Close</th>\n",
       "      <th>Volume</th>\n",
       "    </tr>\n",
       "  </thead>\n",
       "  <tbody>\n",
       "    <tr>\n",
       "      <th>0</th>\n",
       "      <td>1/3/2012</td>\n",
       "      <td>325.25</td>\n",
       "      <td>332.83</td>\n",
       "      <td>324.97</td>\n",
       "      <td>663.59</td>\n",
       "      <td>7,380,500</td>\n",
       "    </tr>\n",
       "    <tr>\n",
       "      <th>1</th>\n",
       "      <td>1/4/2012</td>\n",
       "      <td>331.27</td>\n",
       "      <td>333.87</td>\n",
       "      <td>329.08</td>\n",
       "      <td>666.45</td>\n",
       "      <td>5,749,400</td>\n",
       "    </tr>\n",
       "    <tr>\n",
       "      <th>2</th>\n",
       "      <td>1/5/2012</td>\n",
       "      <td>329.83</td>\n",
       "      <td>330.75</td>\n",
       "      <td>326.89</td>\n",
       "      <td>657.21</td>\n",
       "      <td>6,590,300</td>\n",
       "    </tr>\n",
       "    <tr>\n",
       "      <th>3</th>\n",
       "      <td>1/6/2012</td>\n",
       "      <td>328.34</td>\n",
       "      <td>328.77</td>\n",
       "      <td>323.68</td>\n",
       "      <td>648.24</td>\n",
       "      <td>5,405,900</td>\n",
       "    </tr>\n",
       "    <tr>\n",
       "      <th>4</th>\n",
       "      <td>1/9/2012</td>\n",
       "      <td>322.04</td>\n",
       "      <td>322.29</td>\n",
       "      <td>309.46</td>\n",
       "      <td>620.76</td>\n",
       "      <td>11,688,800</td>\n",
       "    </tr>\n",
       "  </tbody>\n",
       "</table>\n",
       "</div>"
      ],
      "text/plain": [
       "       Date    Open    High     Low   Close      Volume\n",
       "0  1/3/2012  325.25  332.83  324.97  663.59   7,380,500\n",
       "1  1/4/2012  331.27  333.87  329.08  666.45   5,749,400\n",
       "2  1/5/2012  329.83  330.75  326.89  657.21   6,590,300\n",
       "3  1/6/2012  328.34  328.77  323.68  648.24   5,405,900\n",
       "4  1/9/2012  322.04  322.29  309.46  620.76  11,688,800"
      ]
     },
     "execution_count": 2,
     "metadata": {},
     "output_type": "execute_result"
    }
   ],
   "source": [
    "data_set = pd.read_csv('Google_Stock_Price_Train.csv')\n",
    "data_set.head()"
   ]
  },
  {
   "cell_type": "code",
   "execution_count": 3,
   "metadata": {},
   "outputs": [
    {
     "data": {
      "text/plain": [
       "(1258, 1)"
      ]
     },
     "execution_count": 3,
     "metadata": {},
     "output_type": "execute_result"
    }
   ],
   "source": [
    "#to create a numpy array\n",
    "training_set = data_set.iloc[:, 1:2].values\n",
    "training_set.shape"
   ]
  },
  {
   "cell_type": "markdown",
   "metadata": {},
   "source": [
    "# Feature scaling - Normalisation"
   ]
  },
  {
   "cell_type": "code",
   "execution_count": 4,
   "metadata": {},
   "outputs": [],
   "source": [
    "from sklearn.preprocessing import MinMaxScaler\n",
    "sc = MinMaxScaler(feature_range=(0,1))"
   ]
  },
  {
   "cell_type": "code",
   "execution_count": 5,
   "metadata": {},
   "outputs": [
    {
     "data": {
      "text/plain": [
       "array([[0.08581368],\n",
       "       [0.09701243],\n",
       "       [0.09433366],\n",
       "       ...,\n",
       "       [0.95725128],\n",
       "       [0.93796041],\n",
       "       [0.93688146]])"
      ]
     },
     "execution_count": 5,
     "metadata": {},
     "output_type": "execute_result"
    }
   ],
   "source": [
    "training_set_scaled = sc.fit_transform(training_set)\n",
    "training_set_scaled"
   ]
  },
  {
   "cell_type": "markdown",
   "metadata": {},
   "source": [
    "# Creating a data structure with 60 timesteps and 1 output"
   ]
  },
  {
   "cell_type": "code",
   "execution_count": 6,
   "metadata": {},
   "outputs": [],
   "source": [
    "#the model will look to the last 60 days of the stock price and then try to predict the next day\n",
    "x_train = []\n",
    "y_train = []\n",
    "\n",
    "for i in range (120,1258):\n",
    "    x_train.append(training_set_scaled[i-120:i, 0])\n",
    "    y_train.append(training_set_scaled[i, 0])\n",
    "    \n",
    "x_train, y_train = np.array(x_train), np.array(y_train)\n",
    "    "
   ]
  },
  {
   "cell_type": "markdown",
   "metadata": {},
   "source": [
    "## Reshaping the data"
   ]
  },
  {
   "cell_type": "code",
   "execution_count": 7,
   "metadata": {},
   "outputs": [],
   "source": [
    "#the last argument is the number of indicators, in this we just have the open price therefore is 1\n",
    "x_train = np.reshape(x_train, (x_train.shape[0], x_train.shape[1], 1))"
   ]
  },
  {
   "cell_type": "markdown",
   "metadata": {},
   "source": [
    "# Part 2: Building the RNN"
   ]
  },
  {
   "cell_type": "code",
   "execution_count": 8,
   "metadata": {},
   "outputs": [],
   "source": [
    "from keras.models import Sequential\n",
    "from keras.layers import Dense\n",
    "from keras.layers import LSTM\n",
    "from keras.layers import Dropout"
   ]
  },
  {
   "cell_type": "markdown",
   "metadata": {},
   "source": [
    "### Initialize the RNN"
   ]
  },
  {
   "cell_type": "code",
   "execution_count": 9,
   "metadata": {},
   "outputs": [],
   "source": [
    "regressor = Sequential()"
   ]
  },
  {
   "cell_type": "markdown",
   "metadata": {},
   "source": [
    "### Adding the first LSTM layer and some Droput regularisation"
   ]
  },
  {
   "cell_type": "code",
   "execution_count": 10,
   "metadata": {},
   "outputs": [],
   "source": [
    "regressor.add(\n",
    "    LSTM(units=50, return_sequences=True, input_shape=(x_train.shape[1], 1))\n",
    ")\n",
    "regressor.add(\n",
    "#this means that 20% of the LSTM neuron will be dropout during each iteration to prevent overfitting\n",
    "    Dropout(0.2)\n",
    ")"
   ]
  },
  {
   "cell_type": "markdown",
   "metadata": {},
   "source": [
    "### Adding the second LSTM layer and some Droput regularisation"
   ]
  },
  {
   "cell_type": "code",
   "execution_count": 11,
   "metadata": {},
   "outputs": [],
   "source": [
    "regressor.add(\n",
    "    LSTM(units=50, return_sequences=True)\n",
    ")\n",
    "regressor.add(\n",
    "    Dropout(0.2)\n",
    ")"
   ]
  },
  {
   "cell_type": "markdown",
   "metadata": {},
   "source": [
    "### Adding the third LSTM layer and some Droput regularisation"
   ]
  },
  {
   "cell_type": "code",
   "execution_count": 12,
   "metadata": {},
   "outputs": [],
   "source": [
    "regressor.add(\n",
    "    LSTM(units=50, return_sequences=True)\n",
    ")\n",
    "regressor.add(\n",
    "    Dropout(0.2)\n",
    ")"
   ]
  },
  {
   "cell_type": "markdown",
   "metadata": {},
   "source": [
    "### Adding the fourth LSTM layer and some Droput regularisation"
   ]
  },
  {
   "cell_type": "code",
   "execution_count": 13,
   "metadata": {},
   "outputs": [],
   "source": [
    "regressor.add(\n",
    "    #the return sequences is false bc the next layer is going to be the output layer\n",
    "    LSTM(units=50)\n",
    ")\n",
    "regressor.add(\n",
    "    Dropout(0.2)\n",
    ")"
   ]
  },
  {
   "cell_type": "markdown",
   "metadata": {},
   "source": [
    "### Adding the output layer"
   ]
  },
  {
   "cell_type": "code",
   "execution_count": 14,
   "metadata": {},
   "outputs": [],
   "source": [
    "regressor.add(\n",
    "    Dense(units=1)\n",
    ")"
   ]
  },
  {
   "cell_type": "markdown",
   "metadata": {},
   "source": [
    "## Compiling the RNN"
   ]
  },
  {
   "cell_type": "code",
   "execution_count": 15,
   "metadata": {},
   "outputs": [],
   "source": [
    "regressor.compile(optimizer='adam', loss='mean_squared_error')"
   ]
  },
  {
   "cell_type": "markdown",
   "metadata": {},
   "source": [
    "## Fitting the RNN with the training set"
   ]
  },
  {
   "cell_type": "code",
   "execution_count": 16,
   "metadata": {},
   "outputs": [
    {
     "name": "stdout",
     "output_type": "stream",
     "text": [
      "Epoch 1/100\n",
      "36/36 [==============================] - 10s 150ms/step - loss: 0.1327\n",
      "Epoch 2/100\n",
      "36/36 [==============================] - 5s 136ms/step - loss: 0.0093\n",
      "Epoch 3/100\n",
      "36/36 [==============================] - 6s 154ms/step - loss: 0.0057\n",
      "Epoch 4/100\n",
      "36/36 [==============================] - 5s 150ms/step - loss: 0.0055\n",
      "Epoch 5/100\n",
      "36/36 [==============================] - 6s 154ms/step - loss: 0.0051\n",
      "Epoch 6/100\n",
      "36/36 [==============================] - 5s 147ms/step - loss: 0.0052\n",
      "Epoch 7/100\n",
      "36/36 [==============================] - 6s 172ms/step - loss: 0.0058\n",
      "Epoch 8/100\n",
      "36/36 [==============================] - 7s 191ms/step - loss: 0.0051\n",
      "Epoch 9/100\n",
      "36/36 [==============================] - 7s 190ms/step - loss: 0.0049\n",
      "Epoch 10/100\n",
      "36/36 [==============================] - 7s 200ms/step - loss: 0.0044\n",
      "Epoch 11/100\n",
      "36/36 [==============================] - 7s 193ms/step - loss: 0.0041\n",
      "Epoch 12/100\n",
      "36/36 [==============================] - 6s 172ms/step - loss: 0.0046\n",
      "Epoch 13/100\n",
      "36/36 [==============================] - 6s 177ms/step - loss: 0.0050\n",
      "Epoch 14/100\n",
      "36/36 [==============================] - 6s 174ms/step - loss: 0.0043\n",
      "Epoch 15/100\n",
      "36/36 [==============================] - 7s 189ms/step - loss: 0.0040\n",
      "Epoch 16/100\n",
      "36/36 [==============================] - 8s 216ms/step - loss: 0.0043\n",
      "Epoch 17/100\n",
      "36/36 [==============================] - 6s 159ms/step - loss: 0.0041\n",
      "Epoch 18/100\n",
      "36/36 [==============================] - 8s 225ms/step - loss: 0.0048\n",
      "Epoch 19/100\n",
      "36/36 [==============================] - 8s 219ms/step - loss: 0.0035\n",
      "Epoch 20/100\n",
      "36/36 [==============================] - 8s 233ms/step - loss: 0.0036 0s - loss: 0.003\n",
      "Epoch 21/100\n",
      "36/36 [==============================] - 8s 217ms/step - loss: 0.0037\n",
      "Epoch 22/100\n",
      "36/36 [==============================] - 8s 222ms/step - loss: 0.0041\n",
      "Epoch 23/100\n",
      "36/36 [==============================] - 8s 218ms/step - loss: 0.0036\n",
      "Epoch 24/100\n",
      "36/36 [==============================] - 8s 218ms/step - loss: 0.0035\n",
      "Epoch 25/100\n",
      "36/36 [==============================] - 8s 226ms/step - loss: 0.0036\n",
      "Epoch 26/100\n",
      "36/36 [==============================] - 8s 221ms/step - loss: 0.0037\n",
      "Epoch 27/100\n",
      "36/36 [==============================] - 8s 214ms/step - loss: 0.0040\n",
      "Epoch 28/100\n",
      "36/36 [==============================] - 9s 248ms/step - loss: 0.0036\n",
      "Epoch 29/100\n",
      "36/36 [==============================] - 8s 232ms/step - loss: 0.0033\n",
      "Epoch 30/100\n",
      "36/36 [==============================] - 9s 247ms/step - loss: 0.0028\n",
      "Epoch 31/100\n",
      "36/36 [==============================] - 9s 244ms/step - loss: 0.0028\n",
      "Epoch 32/100\n",
      "36/36 [==============================] - 9s 261ms/step - loss: 0.0025\n",
      "Epoch 33/100\n",
      "36/36 [==============================] - 8s 215ms/step - loss: 0.0032\n",
      "Epoch 34/100\n",
      "36/36 [==============================] - 8s 215ms/step - loss: 0.0036\n",
      "Epoch 35/100\n",
      "36/36 [==============================] - 9s 258ms/step - loss: 0.0029\n",
      "Epoch 36/100\n",
      "36/36 [==============================] - 8s 224ms/step - loss: 0.0033\n",
      "Epoch 37/100\n",
      "36/36 [==============================] - 10s 269ms/step - loss: 0.0027\n",
      "Epoch 38/100\n",
      "36/36 [==============================] - 9s 251ms/step - loss: 0.0031\n",
      "Epoch 39/100\n",
      "36/36 [==============================] - 8s 219ms/step - loss: 0.0025\n",
      "Epoch 40/100\n",
      "36/36 [==============================] - 8s 231ms/step - loss: 0.0028\n",
      "Epoch 41/100\n",
      "36/36 [==============================] - 8s 220ms/step - loss: 0.0028\n",
      "Epoch 42/100\n",
      "36/36 [==============================] - 8s 216ms/step - loss: 0.0029\n",
      "Epoch 43/100\n",
      "36/36 [==============================] - 8s 220ms/step - loss: 0.0030\n",
      "Epoch 44/100\n",
      "36/36 [==============================] - 8s 225ms/step - loss: 0.0027\n",
      "Epoch 45/100\n",
      "36/36 [==============================] - 8s 219ms/step - loss: 0.0030\n",
      "Epoch 46/100\n",
      "36/36 [==============================] - 8s 221ms/step - loss: 0.0028\n",
      "Epoch 47/100\n",
      "36/36 [==============================] - 8s 225ms/step - loss: 0.0025\n",
      "Epoch 48/100\n",
      "36/36 [==============================] - 8s 216ms/step - loss: 0.0030\n",
      "Epoch 49/100\n",
      "36/36 [==============================] - 8s 217ms/step - loss: 0.0032\n",
      "Epoch 50/100\n",
      "36/36 [==============================] - 8s 216ms/step - loss: 0.0026\n",
      "Epoch 51/100\n",
      "36/36 [==============================] - 8s 218ms/step - loss: 0.0024\n",
      "Epoch 52/100\n",
      "36/36 [==============================] - 8s 217ms/step - loss: 0.0025\n",
      "Epoch 53/100\n",
      "36/36 [==============================] - 8s 218ms/step - loss: 0.0022\n",
      "Epoch 54/100\n",
      "36/36 [==============================] - 8s 220ms/step - loss: 0.0022\n",
      "Epoch 55/100\n",
      "36/36 [==============================] - 8s 218ms/step - loss: 0.0026\n",
      "Epoch 56/100\n",
      "36/36 [==============================] - 8s 221ms/step - loss: 0.0035\n",
      "Epoch 57/100\n",
      "36/36 [==============================] - 8s 217ms/step - loss: 0.0027 0s - loss: 0.002\n",
      "Epoch 58/100\n",
      "36/36 [==============================] - 8s 218ms/step - loss: 0.0023\n",
      "Epoch 59/100\n",
      "36/36 [==============================] - 8s 220ms/step - loss: 0.0022\n",
      "Epoch 60/100\n",
      "36/36 [==============================] - 8s 219ms/step - loss: 0.0022\n",
      "Epoch 61/100\n",
      "36/36 [==============================] - 8s 219ms/step - loss: 0.0023\n",
      "Epoch 62/100\n",
      "36/36 [==============================] - 8s 217ms/step - loss: 0.0021\n",
      "Epoch 63/100\n",
      "36/36 [==============================] - 8s 220ms/step - loss: 0.0021\n",
      "Epoch 64/100\n",
      "36/36 [==============================] - 8s 217ms/step - loss: 0.0023\n",
      "Epoch 65/100\n",
      "36/36 [==============================] - 8s 216ms/step - loss: 0.0021\n",
      "Epoch 66/100\n",
      "36/36 [==============================] - 9s 243ms/step - loss: 0.0021\n",
      "Epoch 67/100\n",
      "36/36 [==============================] - 8s 217ms/step - loss: 0.0021\n",
      "Epoch 68/100\n",
      "36/36 [==============================] - 9s 251ms/step - loss: 0.0019\n",
      "Epoch 69/100\n",
      "36/36 [==============================] - 12s 334ms/step - loss: 0.0021\n",
      "Epoch 70/100\n",
      "36/36 [==============================] - 12s 331ms/step - loss: 0.0023\n",
      "Epoch 71/100\n",
      "36/36 [==============================] - 11s 297ms/step - loss: 0.0022\n",
      "Epoch 72/100\n",
      "36/36 [==============================] - 9s 251ms/step - loss: 0.0023\n",
      "Epoch 73/100\n",
      "36/36 [==============================] - 8s 221ms/step - loss: 0.0021\n",
      "Epoch 74/100\n",
      "36/36 [==============================] - 8s 216ms/step - loss: 0.0020\n",
      "Epoch 75/100\n",
      "36/36 [==============================] - 11s 311ms/step - loss: 0.0019\n",
      "Epoch 76/100\n",
      "36/36 [==============================] - 9s 238ms/step - loss: 0.0021\n",
      "Epoch 77/100\n",
      "36/36 [==============================] - 8s 217ms/step - loss: 0.0018\n",
      "Epoch 78/100\n",
      "36/36 [==============================] - 10s 275ms/step - loss: 0.0019\n",
      "Epoch 79/100\n",
      "36/36 [==============================] - 9s 235ms/step - loss: 0.0022\n",
      "Epoch 80/100\n",
      "36/36 [==============================] - 8s 222ms/step - loss: 0.0019\n",
      "Epoch 81/100\n",
      "36/36 [==============================] - 9s 246ms/step - loss: 0.0023\n",
      "Epoch 82/100\n",
      "36/36 [==============================] - 10s 282ms/step - loss: 0.0018\n",
      "Epoch 83/100\n",
      "36/36 [==============================] - 9s 238ms/step - loss: 0.0018\n",
      "Epoch 84/100\n",
      "36/36 [==============================] - 8s 221ms/step - loss: 0.0017\n",
      "Epoch 85/100\n",
      "36/36 [==============================] - 7s 189ms/step - loss: 0.0018 1s - loss:\n",
      "Epoch 86/100\n",
      "36/36 [==============================] - 7s 204ms/step - loss: 0.0020\n",
      "Epoch 87/100\n",
      "36/36 [==============================] - 8s 219ms/step - loss: 0.0019\n",
      "Epoch 88/100\n",
      "36/36 [==============================] - 7s 201ms/step - loss: 0.0015\n",
      "Epoch 89/100\n",
      "36/36 [==============================] - 7s 197ms/step - loss: 0.0015\n",
      "Epoch 90/100\n",
      "36/36 [==============================] - 7s 197ms/step - loss: 0.0016\n",
      "Epoch 91/100\n",
      "36/36 [==============================] - 8s 229ms/step - loss: 0.0014\n",
      "Epoch 92/100\n",
      "36/36 [==============================] - 8s 211ms/step - loss: 0.0017\n",
      "Epoch 93/100\n",
      "36/36 [==============================] - 6s 158ms/step - loss: 0.0020\n",
      "Epoch 94/100\n",
      "36/36 [==============================] - 6s 154ms/step - loss: 0.0015\n",
      "Epoch 95/100\n",
      "36/36 [==============================] - 5s 150ms/step - loss: 0.0016\n",
      "Epoch 96/100\n",
      "36/36 [==============================] - 6s 158ms/step - loss: 0.0017\n",
      "Epoch 97/100\n",
      "36/36 [==============================] - 7s 199ms/step - loss: 0.0016\n",
      "Epoch 98/100\n",
      "36/36 [==============================] - 7s 181ms/step - loss: 0.0016\n",
      "Epoch 99/100\n"
     ]
    },
    {
     "name": "stdout",
     "output_type": "stream",
     "text": [
      "36/36 [==============================] - 6s 170ms/step - loss: 0.0015\n",
      "Epoch 100/100\n",
      "36/36 [==============================] - 7s 185ms/step - loss: 0.0016\n"
     ]
    },
    {
     "data": {
      "text/plain": [
       "<tensorflow.python.keras.callbacks.History at 0x24266127c88>"
      ]
     },
     "execution_count": 16,
     "metadata": {},
     "output_type": "execute_result"
    }
   ],
   "source": [
    "regressor.fit(x=x_train, y=y_train, epochs=100, batch_size=32)"
   ]
  },
  {
   "cell_type": "markdown",
   "metadata": {},
   "source": [
    "# Part 3: Making the predictions and visualizing the results"
   ]
  },
  {
   "cell_type": "markdown",
   "metadata": {},
   "source": [
    "## Getting the real stock price of 2017"
   ]
  },
  {
   "cell_type": "code",
   "execution_count": 17,
   "metadata": {},
   "outputs": [
    {
     "data": {
      "text/plain": [
       "<bound method NDFrame.head of          Date    Open    High     Low   Close     Volume\n",
       "0    1/3/2017  778.81  789.63  775.80  786.14  1,657,300\n",
       "1    1/4/2017  788.36  791.34  783.16  786.90  1,073,000\n",
       "2    1/5/2017  786.08  794.48  785.02  794.02  1,335,200\n",
       "3    1/6/2017  795.26  807.90  792.20  806.15  1,640,200\n",
       "4    1/9/2017  806.40  809.97  802.83  806.65  1,272,400\n",
       "5   1/10/2017  807.86  809.13  803.51  804.79  1,176,800\n",
       "6   1/11/2017  805.00  808.15  801.37  807.91  1,065,900\n",
       "7   1/12/2017  807.14  807.39  799.17  806.36  1,353,100\n",
       "8   1/13/2017  807.48  811.22  806.69  807.88  1,099,200\n",
       "9   1/17/2017  807.08  807.14  800.37  804.61  1,362,100\n",
       "10  1/18/2017  805.81  806.21  800.99  806.07  1,294,400\n",
       "11  1/19/2017  805.12  809.48  801.80  802.17    919,300\n",
       "12  1/20/2017  806.91  806.91  801.69  805.02  1,670,000\n",
       "13  1/23/2017  807.25  820.87  803.74  819.31  1,963,600\n",
       "14  1/24/2017  822.30  825.90  817.82  823.87  1,474,000\n",
       "15  1/25/2017  829.62  835.77  825.06  835.67  1,494,500\n",
       "16  1/26/2017  837.81  838.00  827.01  832.15  2,973,900\n",
       "17  1/27/2017  834.71  841.95  820.44  823.31  2,965,800\n",
       "18  1/30/2017  814.66  815.84  799.80  802.32  3,246,600\n",
       "19  1/31/2017  796.86  801.25  790.52  796.79  2,160,600>"
      ]
     },
     "execution_count": 17,
     "metadata": {},
     "output_type": "execute_result"
    }
   ],
   "source": [
    "real_price_set = pd.read_csv('Google_Stock_Price_Test.csv')\n",
    "real_price_set.head"
   ]
  },
  {
   "cell_type": "code",
   "execution_count": 18,
   "metadata": {},
   "outputs": [
    {
     "data": {
      "text/plain": [
       "array([[778.81],\n",
       "       [788.36],\n",
       "       [786.08],\n",
       "       [795.26],\n",
       "       [806.4 ],\n",
       "       [807.86],\n",
       "       [805.  ],\n",
       "       [807.14],\n",
       "       [807.48],\n",
       "       [807.08],\n",
       "       [805.81],\n",
       "       [805.12],\n",
       "       [806.91],\n",
       "       [807.25],\n",
       "       [822.3 ],\n",
       "       [829.62],\n",
       "       [837.81],\n",
       "       [834.71],\n",
       "       [814.66],\n",
       "       [796.86]])"
      ]
     },
     "execution_count": 18,
     "metadata": {},
     "output_type": "execute_result"
    }
   ],
   "source": [
    "test_data_set = real_price_set.iloc[:,1:2].values\n",
    "test_data_set"
   ]
  },
  {
   "cell_type": "markdown",
   "metadata": {},
   "source": [
    "## Getting the predicted stock price of 2017"
   ]
  },
  {
   "cell_type": "code",
   "execution_count": 19,
   "metadata": {},
   "outputs": [],
   "source": [
    "dataset_total = pd.concat((data_set['Open'], real_price_set['Open']), axis=0)"
   ]
  },
  {
   "cell_type": "code",
   "execution_count": 20,
   "metadata": {},
   "outputs": [
    {
     "data": {
      "text/plain": [
       "array([723.62, 721.58, 725.73, 722.71, 729.89, 737.33, 740.36, 741.86,\n",
       "       740.67, 739.04, 738.28, 747.04, 772.71, 761.09, 768.69, 767.18,\n",
       "       772.22, 773.78, 782.  , 781.1 , 783.75, 785.  , 781.5 , 783.75,\n",
       "       780.3 , 777.32, 780.01, 775.  , 773.27, 775.48, 770.58, 767.  ,\n",
       "       769.  , 768.74, 769.33, 767.01, 769.25, 773.01, 773.45, 780.  ,\n",
       "       778.59, 770.1 , 755.13, 764.48, 759.61, 762.89, 769.75, 772.42,\n",
       "       769.  , 772.66, 780.  , 786.59, 782.74, 775.5 , 777.85, 781.44,\n",
       "       776.33, 774.25, 776.03, 779.31, 779.  , 779.66, 777.71, 786.66,\n",
       "       783.76, 781.22, 781.65, 779.8 , 787.85, 798.24, 803.3 , 795.  ,\n",
       "       804.9 , 816.68, 806.34, 801.  , 808.35, 795.47, 782.89, 778.2 ,\n",
       "       767.25, 750.66, 774.5 , 783.4 , 779.94, 791.17, 756.54, 755.6 ,\n",
       "       746.97, 755.2 , 766.92, 771.37, 762.61, 772.63, 767.73, 764.26,\n",
       "       760.  , 771.53, 770.07, 757.44, 744.59, 757.71, 764.73, 761.  ,\n",
       "       772.48, 780.  , 785.04, 793.9 , 797.4 , 797.34, 800.4 , 790.22,\n",
       "       796.76, 795.84, 792.36, 790.9 , 790.68, 793.7 , 783.33, 782.75,\n",
       "       778.81, 788.36, 786.08, 795.26, 806.4 , 807.86, 805.  , 807.14,\n",
       "       807.48, 807.08, 805.81, 805.12, 806.91, 807.25, 822.3 , 829.62,\n",
       "       837.81, 834.71, 814.66, 796.86])"
      ]
     },
     "execution_count": 20,
     "metadata": {},
     "output_type": "execute_result"
    }
   ],
   "source": [
    "inputs = dataset_total[len(dataset_total)-len(real_price_set)-120:].values \n",
    "inputs"
   ]
  },
  {
   "cell_type": "code",
   "execution_count": 21,
   "metadata": {},
   "outputs": [
    {
     "data": {
      "text/plain": [
       "array([[723.62],\n",
       "       [721.58],\n",
       "       [725.73],\n",
       "       [722.71],\n",
       "       [729.89],\n",
       "       [737.33],\n",
       "       [740.36],\n",
       "       [741.86],\n",
       "       [740.67],\n",
       "       [739.04],\n",
       "       [738.28],\n",
       "       [747.04],\n",
       "       [772.71],\n",
       "       [761.09],\n",
       "       [768.69],\n",
       "       [767.18],\n",
       "       [772.22],\n",
       "       [773.78],\n",
       "       [782.  ],\n",
       "       [781.1 ],\n",
       "       [783.75],\n",
       "       [785.  ],\n",
       "       [781.5 ],\n",
       "       [783.75],\n",
       "       [780.3 ],\n",
       "       [777.32],\n",
       "       [780.01],\n",
       "       [775.  ],\n",
       "       [773.27],\n",
       "       [775.48],\n",
       "       [770.58],\n",
       "       [767.  ],\n",
       "       [769.  ],\n",
       "       [768.74],\n",
       "       [769.33],\n",
       "       [767.01],\n",
       "       [769.25],\n",
       "       [773.01],\n",
       "       [773.45],\n",
       "       [780.  ],\n",
       "       [778.59],\n",
       "       [770.1 ],\n",
       "       [755.13],\n",
       "       [764.48],\n",
       "       [759.61],\n",
       "       [762.89],\n",
       "       [769.75],\n",
       "       [772.42],\n",
       "       [769.  ],\n",
       "       [772.66],\n",
       "       [780.  ],\n",
       "       [786.59],\n",
       "       [782.74],\n",
       "       [775.5 ],\n",
       "       [777.85],\n",
       "       [781.44],\n",
       "       [776.33],\n",
       "       [774.25],\n",
       "       [776.03],\n",
       "       [779.31],\n",
       "       [779.  ],\n",
       "       [779.66],\n",
       "       [777.71],\n",
       "       [786.66],\n",
       "       [783.76],\n",
       "       [781.22],\n",
       "       [781.65],\n",
       "       [779.8 ],\n",
       "       [787.85],\n",
       "       [798.24],\n",
       "       [803.3 ],\n",
       "       [795.  ],\n",
       "       [804.9 ],\n",
       "       [816.68],\n",
       "       [806.34],\n",
       "       [801.  ],\n",
       "       [808.35],\n",
       "       [795.47],\n",
       "       [782.89],\n",
       "       [778.2 ],\n",
       "       [767.25],\n",
       "       [750.66],\n",
       "       [774.5 ],\n",
       "       [783.4 ],\n",
       "       [779.94],\n",
       "       [791.17],\n",
       "       [756.54],\n",
       "       [755.6 ],\n",
       "       [746.97],\n",
       "       [755.2 ],\n",
       "       [766.92],\n",
       "       [771.37],\n",
       "       [762.61],\n",
       "       [772.63],\n",
       "       [767.73],\n",
       "       [764.26],\n",
       "       [760.  ],\n",
       "       [771.53],\n",
       "       [770.07],\n",
       "       [757.44],\n",
       "       [744.59],\n",
       "       [757.71],\n",
       "       [764.73],\n",
       "       [761.  ],\n",
       "       [772.48],\n",
       "       [780.  ],\n",
       "       [785.04],\n",
       "       [793.9 ],\n",
       "       [797.4 ],\n",
       "       [797.34],\n",
       "       [800.4 ],\n",
       "       [790.22],\n",
       "       [796.76],\n",
       "       [795.84],\n",
       "       [792.36],\n",
       "       [790.9 ],\n",
       "       [790.68],\n",
       "       [793.7 ],\n",
       "       [783.33],\n",
       "       [782.75],\n",
       "       [778.81],\n",
       "       [788.36],\n",
       "       [786.08],\n",
       "       [795.26],\n",
       "       [806.4 ],\n",
       "       [807.86],\n",
       "       [805.  ],\n",
       "       [807.14],\n",
       "       [807.48],\n",
       "       [807.08],\n",
       "       [805.81],\n",
       "       [805.12],\n",
       "       [806.91],\n",
       "       [807.25],\n",
       "       [822.3 ],\n",
       "       [829.62],\n",
       "       [837.81],\n",
       "       [834.71],\n",
       "       [814.66],\n",
       "       [796.86]])"
      ]
     },
     "execution_count": 21,
     "metadata": {},
     "output_type": "execute_result"
    }
   ],
   "source": [
    "inputs = inputs.reshape(-1,1)\n",
    "inputs"
   ]
  },
  {
   "cell_type": "code",
   "execution_count": 22,
   "metadata": {
    "scrolled": true
   },
   "outputs": [
    {
     "data": {
      "text/plain": [
       "array([[0.82688444],\n",
       "       [0.82308952],\n",
       "       [0.83080958],\n",
       "       [0.82519161],\n",
       "       [0.83854826],\n",
       "       [0.85238857],\n",
       "       [0.85802515],\n",
       "       [0.86081554],\n",
       "       [0.85860183],\n",
       "       [0.85556961],\n",
       "       [0.85415582],\n",
       "       [0.87045167],\n",
       "       [0.91820448],\n",
       "       [0.89658829],\n",
       "       [0.91072624],\n",
       "       [0.90791726],\n",
       "       [0.91729295],\n",
       "       [0.92019495],\n",
       "       [0.93548627],\n",
       "       [0.93381204],\n",
       "       [0.93874172],\n",
       "       [0.94106704],\n",
       "       [0.93455614],\n",
       "       [0.93874172],\n",
       "       [0.93232383],\n",
       "       [0.92678027],\n",
       "       [0.93178436],\n",
       "       [0.92246447],\n",
       "       [0.91924622],\n",
       "       [0.92335739],\n",
       "       [0.91424213],\n",
       "       [0.90758241],\n",
       "       [0.91130292],\n",
       "       [0.91081926],\n",
       "       [0.91191681],\n",
       "       [0.90760101],\n",
       "       [0.91176799],\n",
       "       [0.91876256],\n",
       "       [0.91958107],\n",
       "       [0.93176576],\n",
       "       [0.92914279],\n",
       "       [0.91334921],\n",
       "       [0.88550115],\n",
       "       [0.90289456],\n",
       "       [0.89383511],\n",
       "       [0.89993675],\n",
       "       [0.91269812],\n",
       "       [0.917665  ],\n",
       "       [0.91130292],\n",
       "       [0.91811147],\n",
       "       [0.93176576],\n",
       "       [0.94402485],\n",
       "       [0.93686286],\n",
       "       [0.9233946 ],\n",
       "       [0.9277662 ],\n",
       "       [0.93444453],\n",
       "       [0.92493861],\n",
       "       [0.92106928],\n",
       "       [0.92438053],\n",
       "       [0.93048218],\n",
       "       [0.9299055 ],\n",
       "       [0.93113327],\n",
       "       [0.92750577],\n",
       "       [0.94415507],\n",
       "       [0.93876032],\n",
       "       [0.93403527],\n",
       "       [0.93483518],\n",
       "       [0.9313937 ],\n",
       "       [0.94636878],\n",
       "       [0.96569685],\n",
       "       [0.97510976],\n",
       "       [0.95966962],\n",
       "       [0.97808617],\n",
       "       [1.        ],\n",
       "       [0.98076494],\n",
       "       [0.97083116],\n",
       "       [0.98450406],\n",
       "       [0.96054394],\n",
       "       [0.9371419 ],\n",
       "       [0.92841729],\n",
       "       [0.90804747],\n",
       "       [0.8771858 ],\n",
       "       [0.92153434],\n",
       "       [0.93809063],\n",
       "       [0.93165414],\n",
       "       [0.95254483],\n",
       "       [0.88812412],\n",
       "       [0.88637547],\n",
       "       [0.87032145],\n",
       "       [0.88563137],\n",
       "       [0.90743359],\n",
       "       [0.91571173],\n",
       "       [0.89941588],\n",
       "       [0.91805566],\n",
       "       [0.9089404 ],\n",
       "       [0.9024853 ],\n",
       "       [0.89456061],\n",
       "       [0.91600938],\n",
       "       [0.9132934 ],\n",
       "       [0.88979835],\n",
       "       [0.86589404],\n",
       "       [0.89030062],\n",
       "       [0.90335962],\n",
       "       [0.89642086],\n",
       "       [0.91777662],\n",
       "       [0.93176576],\n",
       "       [0.94114145],\n",
       "       [0.95762334],\n",
       "       [0.96413424],\n",
       "       [0.96402262],\n",
       "       [0.96971501],\n",
       "       [0.95077759],\n",
       "       [0.96294367],\n",
       "       [0.96123223],\n",
       "       [0.95475854],\n",
       "       [0.95204256],\n",
       "       [0.95163331],\n",
       "       [0.95725128],\n",
       "       [0.93796041],\n",
       "       [0.93688146],\n",
       "       [0.92955205],\n",
       "       [0.94731751],\n",
       "       [0.94307612],\n",
       "       [0.96015329],\n",
       "       [0.98087655],\n",
       "       [0.98359253],\n",
       "       [0.97827219],\n",
       "       [0.98225314],\n",
       "       [0.98288563],\n",
       "       [0.98214153],\n",
       "       [0.979779  ],\n",
       "       [0.97849542],\n",
       "       [0.98182528],\n",
       "       [0.98245777],\n",
       "       [1.01045465],\n",
       "       [1.02407173],\n",
       "       [1.03930724],\n",
       "       [1.03354044],\n",
       "       [0.99624228],\n",
       "       [0.9631297 ]])"
      ]
     },
     "execution_count": 22,
     "metadata": {},
     "output_type": "execute_result"
    }
   ],
   "source": [
    "inputs = sc.transform(inputs)\n",
    "inputs"
   ]
  },
  {
   "cell_type": "code",
   "execution_count": 23,
   "metadata": {},
   "outputs": [],
   "source": [
    "x_test=[]\n",
    "\n",
    "for i in range(120, 140):\n",
    "    x_test.append(inputs[i-120:i, 0])\n",
    "    \n",
    "x_test = np.array(x_test)\n",
    "\n",
    "x_test=np.reshape(x_test, (x_test.shape[0], x_test.shape[1], 1))"
   ]
  },
  {
   "cell_type": "code",
   "execution_count": 24,
   "metadata": {},
   "outputs": [],
   "source": [
    "predictions = regressor.predict(x_test)\n",
    "\n",
    "predictions = sc.inverse_transform(predictions)"
   ]
  },
  {
   "cell_type": "code",
   "execution_count": 25,
   "metadata": {},
   "outputs": [
    {
     "data": {
      "text/plain": [
       "array([[802.37823],\n",
       "       [799.955  ],\n",
       "       [799.6466 ],\n",
       "       [800.4219 ],\n",
       "       [803.0635 ],\n",
       "       [808.16156],\n",
       "       [813.4656 ],\n",
       "       [816.5628 ],\n",
       "       [817.9042 ],\n",
       "       [818.23895],\n",
       "       [818.10004],\n",
       "       [817.68243],\n",
       "       [817.23834],\n",
       "       [817.3909 ],\n",
       "       [818.0525 ],\n",
       "       [821.80927],\n",
       "       [827.93353],\n",
       "       [835.1141 ],\n",
       "       [840.05524],\n",
       "       [838.3247 ]], dtype=float32)"
      ]
     },
     "execution_count": 25,
     "metadata": {},
     "output_type": "execute_result"
    }
   ],
   "source": [
    "predictions"
   ]
  },
  {
   "cell_type": "markdown",
   "metadata": {},
   "source": [
    "## Visualizing the results"
   ]
  },
  {
   "cell_type": "code",
   "execution_count": 26,
   "metadata": {},
   "outputs": [
    {
     "data": {
      "image/png": "[encoded data removed]",
      "text/plain": [
       "<Figure size 432x288 with 1 Axes>"
      ]
     },
     "metadata": {},
     "output_type": "display_data"
    }
   ],
   "source": [
    "plt.plot(test_data_set, color='blue', label='Real stock price')\n",
    "plt.plot(predictions, color='green', label='Predicted stock price')\n",
    "plt.xlabel('Day')\n",
    "plt.ylabel('Price')\n",
    "plt.title('Google stock price')\n",
    "plt.legend()\n",
    "plt.show()"
   ]
  },
  {
   "cell_type": "code",
   "execution_count": null,
   "metadata": {},
   "outputs": [],
   "source": []
  }
 ],
 "metadata": {
  "kernelspec": {
   "display_name": "TF2.4_PY3.7",
   "language": "python",
   "name": "tf2.4_py3.7"
  },
  "language_info": {
   "codemirror_mode": {
    "name": "ipython",
    "version": 3
   },
   "file_extension": ".py",
   "mimetype": "text/x-python",
   "name": "python",
   "nbconvert_exporter": "python",
   "pygments_lexer": "ipython3",
   "version": "3.7.10"
  }
 },
 "nbformat": 4,
 "nbformat_minor": 4
}
