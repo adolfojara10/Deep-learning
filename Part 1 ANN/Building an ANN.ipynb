{
 "cells": [
  {
   "cell_type": "code",
   "execution_count": 1,
   "metadata": {},
   "outputs": [],
   "source": [
    "import numpy as np\n",
    "import pandas as pd \n",
    "import matplotlib.pyplot as plt\n",
    "import tensorflow as tf"
   ]
  },
  {
   "cell_type": "code",
   "execution_count": 2,
   "metadata": {},
   "outputs": [
    {
     "data": {
      "text/html": [
       "<div>\n",
       "<style scoped>\n",
       "    .dataframe tbody tr th:only-of-type {\n",
       "        vertical-align: middle;\n",
       "    }\n",
       "\n",
       "    .dataframe tbody tr th {\n",
       "        vertical-align: top;\n",
       "    }\n",
       "\n",
       "    .dataframe thead th {\n",
       "        text-align: right;\n",
       "    }\n",
       "</style>\n",
       "<table border=\"1\" class=\"dataframe\">\n",
       "  <thead>\n",
       "    <tr style=\"text-align: right;\">\n",
       "      <th></th>\n",
       "      <th>RowNumber</th>\n",
       "      <th>CustomerId</th>\n",
       "      <th>Surname</th>\n",
       "      <th>CreditScore</th>\n",
       "      <th>Geography</th>\n",
       "      <th>Gender</th>\n",
       "      <th>Age</th>\n",
       "      <th>Tenure</th>\n",
       "      <th>Balance</th>\n",
       "      <th>NumOfProducts</th>\n",
       "      <th>HasCrCard</th>\n",
       "      <th>IsActiveMember</th>\n",
       "      <th>EstimatedSalary</th>\n",
       "      <th>Exited</th>\n",
       "    </tr>\n",
       "  </thead>\n",
       "  <tbody>\n",
       "    <tr>\n",
       "      <th>0</th>\n",
       "      <td>1</td>\n",
       "      <td>15634602</td>\n",
       "      <td>Hargrave</td>\n",
       "      <td>619</td>\n",
       "      <td>France</td>\n",
       "      <td>Female</td>\n",
       "      <td>42</td>\n",
       "      <td>2</td>\n",
       "      <td>0.00</td>\n",
       "      <td>1</td>\n",
       "      <td>1</td>\n",
       "      <td>1</td>\n",
       "      <td>101348.88</td>\n",
       "      <td>1</td>\n",
       "    </tr>\n",
       "    <tr>\n",
       "      <th>1</th>\n",
       "      <td>2</td>\n",
       "      <td>15647311</td>\n",
       "      <td>Hill</td>\n",
       "      <td>608</td>\n",
       "      <td>Spain</td>\n",
       "      <td>Female</td>\n",
       "      <td>41</td>\n",
       "      <td>1</td>\n",
       "      <td>83807.86</td>\n",
       "      <td>1</td>\n",
       "      <td>0</td>\n",
       "      <td>1</td>\n",
       "      <td>112542.58</td>\n",
       "      <td>0</td>\n",
       "    </tr>\n",
       "    <tr>\n",
       "      <th>2</th>\n",
       "      <td>3</td>\n",
       "      <td>15619304</td>\n",
       "      <td>Onio</td>\n",
       "      <td>502</td>\n",
       "      <td>France</td>\n",
       "      <td>Female</td>\n",
       "      <td>42</td>\n",
       "      <td>8</td>\n",
       "      <td>159660.80</td>\n",
       "      <td>3</td>\n",
       "      <td>1</td>\n",
       "      <td>0</td>\n",
       "      <td>113931.57</td>\n",
       "      <td>1</td>\n",
       "    </tr>\n",
       "    <tr>\n",
       "      <th>3</th>\n",
       "      <td>4</td>\n",
       "      <td>15701354</td>\n",
       "      <td>Boni</td>\n",
       "      <td>699</td>\n",
       "      <td>France</td>\n",
       "      <td>Female</td>\n",
       "      <td>39</td>\n",
       "      <td>1</td>\n",
       "      <td>0.00</td>\n",
       "      <td>2</td>\n",
       "      <td>0</td>\n",
       "      <td>0</td>\n",
       "      <td>93826.63</td>\n",
       "      <td>0</td>\n",
       "    </tr>\n",
       "    <tr>\n",
       "      <th>4</th>\n",
       "      <td>5</td>\n",
       "      <td>15737888</td>\n",
       "      <td>Mitchell</td>\n",
       "      <td>850</td>\n",
       "      <td>Spain</td>\n",
       "      <td>Female</td>\n",
       "      <td>43</td>\n",
       "      <td>2</td>\n",
       "      <td>125510.82</td>\n",
       "      <td>1</td>\n",
       "      <td>1</td>\n",
       "      <td>1</td>\n",
       "      <td>79084.10</td>\n",
       "      <td>0</td>\n",
       "    </tr>\n",
       "  </tbody>\n",
       "</table>\n",
       "</div>"
      ],
      "text/plain": [
       "   RowNumber  CustomerId   Surname  CreditScore Geography  Gender  Age  \\\n",
       "0          1    15634602  Hargrave          619    France  Female   42   \n",
       "1          2    15647311      Hill          608     Spain  Female   41   \n",
       "2          3    15619304      Onio          502    France  Female   42   \n",
       "3          4    15701354      Boni          699    France  Female   39   \n",
       "4          5    15737888  Mitchell          850     Spain  Female   43   \n",
       "\n",
       "   Tenure    Balance  NumOfProducts  HasCrCard  IsActiveMember  \\\n",
       "0       2       0.00              1          1               1   \n",
       "1       1   83807.86              1          0               1   \n",
       "2       8  159660.80              3          1               0   \n",
       "3       1       0.00              2          0               0   \n",
       "4       2  125510.82              1          1               1   \n",
       "\n",
       "   EstimatedSalary  Exited  \n",
       "0        101348.88       1  \n",
       "1        112542.58       0  \n",
       "2        113931.57       1  \n",
       "3         93826.63       0  \n",
       "4         79084.10       0  "
      ]
     },
     "execution_count": 2,
     "metadata": {},
     "output_type": "execute_result"
    }
   ],
   "source": [
    "dataset = pd.read_csv('Churn_Modelling.csv')\n",
    "dataset.head()"
   ]
  },
  {
   "cell_type": "code",
   "execution_count": 3,
   "metadata": {},
   "outputs": [],
   "source": [
    "x = dataset.iloc[:,3:-1].values\n",
    "y = dataset.iloc[:,-1].values"
   ]
  },
  {
   "cell_type": "code",
   "execution_count": 4,
   "metadata": {},
   "outputs": [
    {
     "name": "stdout",
     "output_type": "stream",
     "text": [
      "[[619 'France' 'Female' ... 1 1 101348.88]\n",
      " [608 'Spain' 'Female' ... 0 1 112542.58]\n",
      " [502 'France' 'Female' ... 1 0 113931.57]\n",
      " ...\n",
      " [709 'France' 'Female' ... 0 1 42085.58]\n",
      " [772 'Germany' 'Male' ... 1 0 92888.52]\n",
      " [792 'France' 'Female' ... 1 0 38190.78]]\n"
     ]
    }
   ],
   "source": [
    "print(x)"
   ]
  },
  {
   "cell_type": "code",
   "execution_count": 5,
   "metadata": {},
   "outputs": [
    {
     "name": "stdout",
     "output_type": "stream",
     "text": [
      "[1 0 1 ... 1 1 0]\n"
     ]
    }
   ],
   "source": [
    "print(y)"
   ]
  },
  {
   "cell_type": "markdown",
   "metadata": {},
   "source": [
    "# Encoding categorical data"
   ]
  },
  {
   "cell_type": "code",
   "execution_count": 7,
   "metadata": {},
   "outputs": [
    {
     "data": {
      "text/plain": [
       "array([[619, 'France', 0, ..., 1, 1, 101348.88],\n",
       "       [608, 'Spain', 0, ..., 0, 1, 112542.58],\n",
       "       [502, 'France', 0, ..., 1, 0, 113931.57],\n",
       "       ...,\n",
       "       [709, 'France', 0, ..., 0, 1, 42085.58],\n",
       "       [772, 'Germany', 1, ..., 1, 0, 92888.52],\n",
       "       [792, 'France', 0, ..., 1, 0, 38190.78]], dtype=object)"
      ]
     },
     "execution_count": 7,
     "metadata": {},
     "output_type": "execute_result"
    }
   ],
   "source": [
    "from sklearn.preprocessing import LabelEncoder\n",
    "le = LabelEncoder()\n",
    "#Encoding gender\n",
    "x[:,2] = le.fit_transform(x[:,2])\n",
    "x"
   ]
  },
  {
   "cell_type": "code",
   "execution_count": 9,
   "metadata": {},
   "outputs": [
    {
     "data": {
      "text/plain": [
       "array([[1.0, 0.0, 0.0, ..., 1, 1, 101348.88],\n",
       "       [0.0, 0.0, 1.0, ..., 0, 1, 112542.58],\n",
       "       [1.0, 0.0, 0.0, ..., 1, 0, 113931.57],\n",
       "       ...,\n",
       "       [1.0, 0.0, 0.0, ..., 0, 1, 42085.58],\n",
       "       [0.0, 1.0, 0.0, ..., 1, 0, 92888.52],\n",
       "       [1.0, 0.0, 0.0, ..., 1, 0, 38190.78]], dtype=object)"
      ]
     },
     "execution_count": 9,
     "metadata": {},
     "output_type": "execute_result"
    }
   ],
   "source": [
    "#One-hot Encoding geography\n",
    "from sklearn.compose import ColumnTransformer\n",
    "from sklearn.preprocessing import OneHotEncoder\n",
    "#the column is needed to be one hot encoder\n",
    "ct = ColumnTransformer(transformers=[('encoder', OneHotEncoder(), [1])], remainder='passthrough')\n",
    "x = np.array(ct.fit_transform(x))\n",
    "x "
   ]
  },
  {
   "cell_type": "markdown",
   "metadata": {},
   "source": [
    "# Split the dataset into the training set and test set"
   ]
  },
  {
   "cell_type": "code",
   "execution_count": 10,
   "metadata": {},
   "outputs": [],
   "source": [
    "from sklearn.model_selection import train_test_split\n",
    "x_train, x_test, y_train, y_test = train_test_split(x,y, test_size=0.2, random_state=0)"
   ]
  },
  {
   "cell_type": "markdown",
   "metadata": {},
   "source": [
    "# Feature scaling"
   ]
  },
  {
   "cell_type": "code",
   "execution_count": 12,
   "metadata": {},
   "outputs": [],
   "source": [
    "from sklearn.preprocessing import StandardScaler\n",
    "sc = StandardScaler()\n",
    "x_train = sc.fit_transform(x_train)\n",
    "x_test = sc.fit_transform(x_test)"
   ]
  },
  {
   "cell_type": "code",
   "execution_count": 13,
   "metadata": {},
   "outputs": [
    {
     "data": {
      "text/plain": [
       "array([[-1.01460667, -0.5698444 ,  1.74309049, ...,  0.64259497,\n",
       "        -1.03227043,  1.10643166],\n",
       "       [-1.01460667,  1.75486502, -0.57369368, ...,  0.64259497,\n",
       "         0.9687384 , -0.74866447],\n",
       "       [ 0.98560362, -0.5698444 , -0.57369368, ...,  0.64259497,\n",
       "        -1.03227043,  1.48533467],\n",
       "       ...,\n",
       "       [ 0.98560362, -0.5698444 , -0.57369368, ...,  0.64259497,\n",
       "        -1.03227043,  1.41231994],\n",
       "       [-1.01460667, -0.5698444 ,  1.74309049, ...,  0.64259497,\n",
       "         0.9687384 ,  0.84432121],\n",
       "       [-1.01460667,  1.75486502, -0.57369368, ...,  0.64259497,\n",
       "        -1.03227043,  0.32472465]])"
      ]
     },
     "execution_count": 13,
     "metadata": {},
     "output_type": "execute_result"
    }
   ],
   "source": [
    "x_train"
   ]
  },
  {
   "cell_type": "markdown",
   "metadata": {},
   "source": [
    "# Building the ANN"
   ]
  },
  {
   "cell_type": "markdown",
   "metadata": {},
   "source": [
    "## Initialiazing the ANN"
   ]
  },
  {
   "cell_type": "code",
   "execution_count": 14,
   "metadata": {},
   "outputs": [],
   "source": [
    "ann = tf.keras.models.Sequential()"
   ]
  },
  {
   "cell_type": "markdown",
   "metadata": {},
   "source": [
    "## Adding the input layer and the first hidden layer"
   ]
  },
  {
   "cell_type": "code",
   "execution_count": 31,
   "metadata": {},
   "outputs": [],
   "source": [
    "#Units is the number of neurons in the first hidden layer\n",
    "#activation is the activation function and relu means the rectifier function\n",
    "ann.add(tf.keras.layers.Dense(units=10, activation='relu'))"
   ]
  },
  {
   "cell_type": "markdown",
   "metadata": {},
   "source": [
    "## Adding the second layer"
   ]
  },
  {
   "cell_type": "code",
   "execution_count": 32,
   "metadata": {},
   "outputs": [],
   "source": [
    "ann.add(tf.keras.layers.Dense(units=10, activation='relu'))"
   ]
  },
  {
   "cell_type": "markdown",
   "metadata": {},
   "source": [
    "## Adding the output layer"
   ]
  },
  {
   "cell_type": "code",
   "execution_count": 33,
   "metadata": {},
   "outputs": [],
   "source": [
    "# We use the dense class for all the layers because it is the way they are connected\n",
    "# we just need 1 neuron because it is a binary prediction\n",
    "# For the activarion we use sigmoid because it's a binary prediction, but if it would be a categorical prediction,\n",
    "# we would use softmax\n",
    "ann.add(tf.keras.layers.Dense(units=1, activation='sigmoid'))"
   ]
  },
  {
   "cell_type": "markdown",
   "metadata": {},
   "source": [
    "# Training the ANN"
   ]
  },
  {
   "cell_type": "markdown",
   "metadata": {},
   "source": [
    "## Compiling the ANN"
   ]
  },
  {
   "cell_type": "code",
   "execution_count": 34,
   "metadata": {},
   "outputs": [],
   "source": [
    "#for the loss function is necessary to use this one because is a binary prediction but if it would be a \n",
    "#categorical prediction we would use categorical_crossentropy\n",
    "ann.compile(optimizer='adam', loss='binary_crossentropy', metrics=['accuracy'])"
   ]
  },
  {
   "cell_type": "markdown",
   "metadata": {},
   "source": [
    "## Training the ANN on the training set"
   ]
  },
  {
   "cell_type": "code",
   "execution_count": 43,
   "metadata": {},
   "outputs": [
    {
     "name": "stdout",
     "output_type": "stream",
     "text": [
      "Epoch 1/100\n",
      "250/250 [==============================] - 3s 883us/step - loss: 0.3290 - accuracy: 0.8659\n",
      "Epoch 2/100\n",
      "250/250 [==============================] - 0s 844us/step - loss: 0.3297 - accuracy: 0.8650\n",
      "Epoch 3/100\n",
      "250/250 [==============================] - 0s 839us/step - loss: 0.3296 - accuracy: 0.8658\n",
      "Epoch 4/100\n",
      "250/250 [==============================] - 0s 829us/step - loss: 0.3293 - accuracy: 0.8650\n",
      "Epoch 5/100\n",
      "250/250 [==============================] - 0s 862us/step - loss: 0.3289 - accuracy: 0.8651\n",
      "Epoch 6/100\n",
      "250/250 [==============================] - 0s 838us/step - loss: 0.3292 - accuracy: 0.8656\n",
      "Epoch 7/100\n",
      "250/250 [==============================] - 0s 862us/step - loss: 0.3295 - accuracy: 0.8646\n",
      "Epoch 8/100\n",
      "250/250 [==============================] - 0s 835us/step - loss: 0.3292 - accuracy: 0.8661\n",
      "Epoch 9/100\n",
      "250/250 [==============================] - 0s 867us/step - loss: 0.3294 - accuracy: 0.8654\n",
      "Epoch 10/100\n",
      "250/250 [==============================] - 0s 835us/step - loss: 0.3289 - accuracy: 0.8656\n",
      "Epoch 11/100\n",
      "250/250 [==============================] - 0s 900us/step - loss: 0.3292 - accuracy: 0.8658\n",
      "Epoch 12/100\n",
      "250/250 [==============================] - 0s 1ms/step - loss: 0.3287 - accuracy: 0.8658\n",
      "Epoch 13/100\n",
      "250/250 [==============================] - 0s 1ms/step - loss: 0.3284 - accuracy: 0.8659: 0s - loss: 0.3325 - accuracy\n",
      "Epoch 14/100\n",
      "250/250 [==============================] - 0s 892us/step - loss: 0.3292 - accuracy: 0.8656\n",
      "Epoch 15/100\n",
      "250/250 [==============================] - 0s 848us/step - loss: 0.3281 - accuracy: 0.8654\n",
      "Epoch 16/100\n",
      "250/250 [==============================] - 0s 868us/step - loss: 0.3292 - accuracy: 0.8648\n",
      "Epoch 17/100\n",
      "250/250 [==============================] - 0s 862us/step - loss: 0.3285 - accuracy: 0.8679\n",
      "Epoch 18/100\n",
      "250/250 [==============================] - 0s 841us/step - loss: 0.3287 - accuracy: 0.8664\n",
      "Epoch 19/100\n",
      "250/250 [==============================] - 0s 846us/step - loss: 0.3290 - accuracy: 0.8646\n",
      "Epoch 20/100\n",
      "250/250 [==============================] - 0s 932us/step - loss: 0.3284 - accuracy: 0.8648\n",
      "Epoch 21/100\n",
      "250/250 [==============================] - 0s 1ms/step - loss: 0.3286 - accuracy: 0.8643\n",
      "Epoch 22/100\n",
      "250/250 [==============================] - 0s 989us/step - loss: 0.3285 - accuracy: 0.8658\n",
      "Epoch 23/100\n",
      "250/250 [==============================] - 0s 844us/step - loss: 0.3287 - accuracy: 0.86510s - loss: 0.3181 - accuracy: \n",
      "Epoch 24/100\n",
      "250/250 [==============================] - 0s 892us/step - loss: 0.3294 - accuracy: 0.8656\n",
      "Epoch 25/100\n",
      "250/250 [==============================] - 0s 847us/step - loss: 0.3290 - accuracy: 0.8660\n",
      "Epoch 26/100\n",
      "250/250 [==============================] - 0s 832us/step - loss: 0.3279 - accuracy: 0.8665\n",
      "Epoch 27/100\n",
      "250/250 [==============================] - 0s 868us/step - loss: 0.3287 - accuracy: 0.8648\n",
      "Epoch 28/100\n",
      "250/250 [==============================] - 0s 887us/step - loss: 0.3285 - accuracy: 0.8660\n",
      "Epoch 29/100\n",
      "250/250 [==============================] - 0s 888us/step - loss: 0.3292 - accuracy: 0.8645\n",
      "Epoch 30/100\n",
      "250/250 [==============================] - 0s 843us/step - loss: 0.3283 - accuracy: 0.8664\n",
      "Epoch 31/100\n",
      "250/250 [==============================] - 0s 824us/step - loss: 0.3288 - accuracy: 0.8661\n",
      "Epoch 32/100\n",
      "250/250 [==============================] - 0s 838us/step - loss: 0.3282 - accuracy: 0.8680\n",
      "Epoch 33/100\n",
      "250/250 [==============================] - 0s 860us/step - loss: 0.3287 - accuracy: 0.8673\n",
      "Epoch 34/100\n",
      "250/250 [==============================] - 0s 861us/step - loss: 0.3283 - accuracy: 0.8670\n",
      "Epoch 35/100\n",
      "250/250 [==============================] - 0s 838us/step - loss: 0.3283 - accuracy: 0.8664\n",
      "Epoch 36/100\n",
      "250/250 [==============================] - 0s 830us/step - loss: 0.3282 - accuracy: 0.8676\n",
      "Epoch 37/100\n",
      "250/250 [==============================] - 0s 846us/step - loss: 0.3282 - accuracy: 0.8683\n",
      "Epoch 38/100\n",
      "250/250 [==============================] - 0s 862us/step - loss: 0.3283 - accuracy: 0.8661\n",
      "Epoch 39/100\n",
      "250/250 [==============================] - 0s 846us/step - loss: 0.3279 - accuracy: 0.8674\n",
      "Epoch 40/100\n",
      "250/250 [==============================] - 0s 876us/step - loss: 0.3288 - accuracy: 0.8641\n",
      "Epoch 41/100\n",
      "250/250 [==============================] - 0s 850us/step - loss: 0.3278 - accuracy: 0.8652\n",
      "Epoch 42/100\n",
      "250/250 [==============================] - 0s 1ms/step - loss: 0.3279 - accuracy: 0.8658\n",
      "Epoch 43/100\n",
      "250/250 [==============================] - 0s 975us/step - loss: 0.3282 - accuracy: 0.8673\n",
      "Epoch 44/100\n",
      "250/250 [==============================] - 0s 928us/step - loss: 0.3284 - accuracy: 0.8660\n",
      "Epoch 45/100\n",
      "250/250 [==============================] - 0s 884us/step - loss: 0.3281 - accuracy: 0.8664\n",
      "Epoch 46/100\n",
      "250/250 [==============================] - 0s 899us/step - loss: 0.3278 - accuracy: 0.8644\n",
      "Epoch 47/100\n",
      "250/250 [==============================] - 0s 867us/step - loss: 0.3285 - accuracy: 0.8658\n",
      "Epoch 48/100\n",
      "250/250 [==============================] - 0s 870us/step - loss: 0.3284 - accuracy: 0.8649\n",
      "Epoch 49/100\n",
      "250/250 [==============================] - 0s 874us/step - loss: 0.3287 - accuracy: 0.8659\n",
      "Epoch 50/100\n",
      "250/250 [==============================] - 0s 896us/step - loss: 0.3284 - accuracy: 0.8656\n",
      "Epoch 51/100\n",
      "250/250 [==============================] - 0s 884us/step - loss: 0.3281 - accuracy: 0.8655\n",
      "Epoch 52/100\n",
      "250/250 [==============================] - 0s 977us/step - loss: 0.3280 - accuracy: 0.8659\n",
      "Epoch 53/100\n",
      "250/250 [==============================] - 0s 865us/step - loss: 0.3282 - accuracy: 0.8648\n",
      "Epoch 54/100\n",
      "250/250 [==============================] - 0s 897us/step - loss: 0.3279 - accuracy: 0.8654\n",
      "Epoch 55/100\n",
      "250/250 [==============================] - 0s 813us/step - loss: 0.3287 - accuracy: 0.8650\n",
      "Epoch 56/100\n",
      "250/250 [==============================] - 0s 813us/step - loss: 0.3287 - accuracy: 0.8668\n",
      "Epoch 57/100\n",
      "250/250 [==============================] - 0s 820us/step - loss: 0.3283 - accuracy: 0.8651\n",
      "Epoch 58/100\n",
      "250/250 [==============================] - 0s 867us/step - loss: 0.3285 - accuracy: 0.8649\n",
      "Epoch 59/100\n",
      "250/250 [==============================] - 0s 829us/step - loss: 0.3282 - accuracy: 0.8654\n",
      "Epoch 60/100\n",
      "250/250 [==============================] - 0s 847us/step - loss: 0.3282 - accuracy: 0.8670\n",
      "Epoch 61/100\n",
      "250/250 [==============================] - 0s 875us/step - loss: 0.3285 - accuracy: 0.8639\n",
      "Epoch 62/100\n",
      "250/250 [==============================] - 0s 833us/step - loss: 0.3285 - accuracy: 0.8670\n",
      "Epoch 63/100\n",
      "250/250 [==============================] - 0s 1ms/step - loss: 0.3280 - accuracy: 0.8650\n",
      "Epoch 64/100\n",
      "250/250 [==============================] - 0s 1ms/step - loss: 0.3281 - accuracy: 0.8661\n",
      "Epoch 65/100\n",
      "250/250 [==============================] - 0s 995us/step - loss: 0.3279 - accuracy: 0.8669\n",
      "Epoch 66/100\n",
      "250/250 [==============================] - 0s 913us/step - loss: 0.3278 - accuracy: 0.8648\n",
      "Epoch 67/100\n",
      "250/250 [==============================] - 0s 889us/step - loss: 0.3283 - accuracy: 0.8668\n",
      "Epoch 68/100\n",
      "250/250 [==============================] - 0s 870us/step - loss: 0.3276 - accuracy: 0.8646\n",
      "Epoch 69/100\n",
      "250/250 [==============================] - 0s 870us/step - loss: 0.3280 - accuracy: 0.8661\n",
      "Epoch 70/100\n",
      "250/250 [==============================] - 0s 847us/step - loss: 0.3281 - accuracy: 0.8646\n",
      "Epoch 71/100\n",
      "250/250 [==============================] - 0s 870us/step - loss: 0.3282 - accuracy: 0.8665\n",
      "Epoch 72/100\n",
      "250/250 [==============================] - 0s 858us/step - loss: 0.3279 - accuracy: 0.8677\n",
      "Epoch 73/100\n",
      "250/250 [==============================] - 0s 857us/step - loss: 0.3278 - accuracy: 0.8643\n",
      "Epoch 74/100\n",
      "250/250 [==============================] - 0s 843us/step - loss: 0.3279 - accuracy: 0.8669\n",
      "Epoch 75/100\n",
      "250/250 [==============================] - 0s 844us/step - loss: 0.3285 - accuracy: 0.8656\n",
      "Epoch 76/100\n",
      "250/250 [==============================] - 0s 890us/step - loss: 0.3273 - accuracy: 0.8671\n",
      "Epoch 77/100\n",
      "250/250 [==============================] - 0s 832us/step - loss: 0.3275 - accuracy: 0.8666\n",
      "Epoch 78/100\n",
      "250/250 [==============================] - 0s 853us/step - loss: 0.3277 - accuracy: 0.8664\n",
      "Epoch 79/100\n"
     ]
    },
    {
     "name": "stdout",
     "output_type": "stream",
     "text": [
      "250/250 [==============================] - 0s 880us/step - loss: 0.3272 - accuracy: 0.8662\n",
      "Epoch 80/100\n",
      "250/250 [==============================] - 0s 816us/step - loss: 0.3278 - accuracy: 0.8658\n",
      "Epoch 81/100\n",
      "250/250 [==============================] - 0s 917us/step - loss: 0.3274 - accuracy: 0.8665\n",
      "Epoch 82/100\n",
      "250/250 [==============================] - 0s 824us/step - loss: 0.3275 - accuracy: 0.8656\n",
      "Epoch 83/100\n",
      "250/250 [==============================] - 0s 806us/step - loss: 0.3278 - accuracy: 0.8665\n",
      "Epoch 84/100\n",
      "250/250 [==============================] - 0s 803us/step - loss: 0.3275 - accuracy: 0.8654\n",
      "Epoch 85/100\n",
      "250/250 [==============================] - 0s 806us/step - loss: 0.3274 - accuracy: 0.8666\n",
      "Epoch 86/100\n",
      "250/250 [==============================] - 0s 844us/step - loss: 0.3271 - accuracy: 0.8665\n",
      "Epoch 87/100\n",
      "250/250 [==============================] - 0s 836us/step - loss: 0.3273 - accuracy: 0.8668\n",
      "Epoch 88/100\n",
      "250/250 [==============================] - 0s 822us/step - loss: 0.3272 - accuracy: 0.8684\n",
      "Epoch 89/100\n",
      "250/250 [==============================] - 0s 838us/step - loss: 0.3275 - accuracy: 0.8670\n",
      "Epoch 90/100\n",
      "250/250 [==============================] - 0s 844us/step - loss: 0.3280 - accuracy: 0.8659\n",
      "Epoch 91/100\n",
      "250/250 [==============================] - 0s 861us/step - loss: 0.3270 - accuracy: 0.8691\n",
      "Epoch 92/100\n",
      "250/250 [==============================] - 0s 838us/step - loss: 0.3282 - accuracy: 0.8683\n",
      "Epoch 93/100\n",
      "250/250 [==============================] - 0s 806us/step - loss: 0.3266 - accuracy: 0.8659\n",
      "Epoch 94/100\n",
      "250/250 [==============================] - 0s 844us/step - loss: 0.3270 - accuracy: 0.8679\n",
      "Epoch 95/100\n",
      "250/250 [==============================] - 0s 941us/step - loss: 0.3275 - accuracy: 0.8680\n",
      "Epoch 96/100\n",
      "250/250 [==============================] - 0s 865us/step - loss: 0.3277 - accuracy: 0.8655\n",
      "Epoch 97/100\n",
      "250/250 [==============================] - 0s 831us/step - loss: 0.3272 - accuracy: 0.8643\n",
      "Epoch 98/100\n",
      "250/250 [==============================] - 0s 806us/step - loss: 0.3276 - accuracy: 0.8665\n",
      "Epoch 99/100\n",
      "250/250 [==============================] - 0s 835us/step - loss: 0.3278 - accuracy: 0.8662\n",
      "Epoch 100/100\n",
      "250/250 [==============================] - 0s 838us/step - loss: 0.3269 - accuracy: 0.8660\n"
     ]
    },
    {
     "data": {
      "text/plain": [
       "<tensorflow.python.keras.callbacks.History at 0x2815377ec70>"
      ]
     },
     "execution_count": 43,
     "metadata": {},
     "output_type": "execute_result"
    }
   ],
   "source": [
    "# The batch_size is 32 frequently\n",
    "ann.fit(x_train, y_train, batch_size=32, epochs=100)"
   ]
  },
  {
   "cell_type": "markdown",
   "metadata": {},
   "source": [
    "# Making the predictions and evaluating the model"
   ]
  },
  {
   "cell_type": "code",
   "execution_count": 36,
   "metadata": {},
   "outputs": [
    {
     "name": "stdout",
     "output_type": "stream",
     "text": [
      "63/63 [==============================] - 3s 647us/step - loss: 0.3308 - accuracy: 0.8630\n"
     ]
    }
   ],
   "source": [
    "test_loss, test_accuracy = ann.evaluate(x_test, y_test)"
   ]
  },
  {
   "cell_type": "markdown",
   "metadata": {
    "colab_type": "text",
    "id": "CGRo3eacgDdC"
   },
   "source": [
    "**Homework**\n",
    "\n",
    "Use our ANN model to predict if the customer with the following informations will leave the bank: \n",
    "\n",
    "Geography: France\n",
    "\n",
    "Credit Score: 600\n",
    "\n",
    "Gender: Male\n",
    "\n",
    "Age: 40 years old\n",
    "\n",
    "Tenure: 3 years\n",
    "\n",
    "Balance: \\$ 60000\n",
    "\n",
    "Number of Products: 2\n",
    "\n",
    "Does this customer have a credit card? Yes\n",
    "\n",
    "Is this customer an Active Member: Yes\n",
    "\n",
    "Estimated Salary: \\$ 50000\n",
    "\n",
    "So, should we say goodbye to that customer?"
   ]
  },
  {
   "cell_type": "code",
   "execution_count": 37,
   "metadata": {},
   "outputs": [
    {
     "data": {
      "text/plain": [
       "array([1.0, 0.0, 0.0, 619, 0, 42, 2, 0.0, 1, 1, 1, 101348.88],\n",
       "      dtype=object)"
      ]
     },
     "execution_count": 37,
     "metadata": {},
     "output_type": "execute_result"
    }
   ],
   "source": [
    "x[0]"
   ]
  },
  {
   "cell_type": "code",
   "execution_count": 38,
   "metadata": {},
   "outputs": [],
   "source": [
    "predict_customer = sc.transform([[1.0, 0.0, 0.0, 600, 1, 40, 3, 60000, 2, 1, 1, 50000]])"
   ]
  },
  {
   "cell_type": "code",
   "execution_count": 39,
   "metadata": {},
   "outputs": [
    {
     "data": {
      "text/plain": [
       "array([[0.02409139]], dtype=float32)"
      ]
     },
     "execution_count": 39,
     "metadata": {},
     "output_type": "execute_result"
    }
   ],
   "source": [
    "ann.predict(predict_customer)"
   ]
  },
  {
   "cell_type": "markdown",
   "metadata": {
    "colab_type": "text",
    "id": "wGjx94g2n7OV"
   },
   "source": [
    "Therefore, our ANN model predicts that this customer stays in the bank!\n",
    "\n",
    "**Important note 1:** Notice that the values of the features were all input in a double pair of square brackets. That's because the \"predict\" method always expects a 2D array as the format of its inputs. And putting our values into a double pair of square brackets makes the input exactly a 2D array.\n",
    "\n",
    "**Important note 2:** Notice also that the \"France\" country was not input as a string in the last column but as \"1, 0, 0\" in the first three columns. That's because of course the predict method expects the one-hot-encoded values of the state, and as we see in the first row of the matrix of features X, \"France\" was encoded as \"1, 0, 0\". And be careful to include these values in the first three columns, because the dummy variables are always created in the first columns."
   ]
  },
  {
   "cell_type": "code",
   "execution_count": 40,
   "metadata": {},
   "outputs": [
    {
     "name": "stdout",
     "output_type": "stream",
     "text": [
      "[[0 0]\n",
      " [0 1]\n",
      " [0 0]\n",
      " ...\n",
      " [0 0]\n",
      " [0 0]\n",
      " [0 0]]\n"
     ]
    }
   ],
   "source": [
    "y_pred = ann.predict(x_test)\n",
    "y_pred = (y_pred > 0.5)\n",
    "print(np.concatenate((y_pred.reshape(len(y_pred),1), y_test.reshape(len(y_test),1)),1))"
   ]
  },
  {
   "cell_type": "markdown",
   "metadata": {},
   "source": [
    "## Making the confusion matrix"
   ]
  },
  {
   "cell_type": "code",
   "execution_count": 41,
   "metadata": {},
   "outputs": [
    {
     "name": "stdout",
     "output_type": "stream",
     "text": [
      "[[1536   59]\n",
      " [ 215  190]]\n"
     ]
    },
    {
     "data": {
      "text/plain": [
       "0.863"
      ]
     },
     "execution_count": 41,
     "metadata": {},
     "output_type": "execute_result"
    }
   ],
   "source": [
    "from sklearn.metrics import confusion_matrix, accuracy_score\n",
    "\n",
    "cm = confusion_matrix(y_test,y_pred)\n",
    "print(cm)\n",
    "accuracy_score(y_test,y_pred)"
   ]
  },
  {
   "cell_type": "code",
   "execution_count": null,
   "metadata": {},
   "outputs": [],
   "source": []
  }
 ],
 "metadata": {
  "kernelspec": {
   "display_name": "py3_TF2.4",
   "language": "python",
   "name": "py3_tf2.4"
  },
  "language_info": {
   "codemirror_mode": {
    "name": "ipython",
    "version": 3
   },
   "file_extension": ".py",
   "mimetype": "text/x-python",
   "name": "python",
   "nbconvert_exporter": "python",
   "pygments_lexer": "ipython3",
   "version": "3.8.8"
  }
 },
 "nbformat": 4,
 "nbformat_minor": 4
}
