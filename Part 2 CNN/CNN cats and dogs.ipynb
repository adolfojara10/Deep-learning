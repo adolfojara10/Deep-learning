{
 "cells": [
  {
   "cell_type": "code",
   "execution_count": 1,
   "metadata": {},
   "outputs": [],
   "source": [
    "import tensorflow as tf \n",
    "from keras.preprocessing.image import ImageDataGenerator"
   ]
  },
  {
   "cell_type": "markdown",
   "metadata": {},
   "source": [
    "# Data preprocessing"
   ]
  },
  {
   "cell_type": "markdown",
   "metadata": {},
   "source": [
    "## Preprocessing the training set"
   ]
  },
  {
   "cell_type": "code",
   "execution_count": 2,
   "metadata": {},
   "outputs": [
    {
     "name": "stdout",
     "output_type": "stream",
     "text": [
      "Found 8000 images belonging to 2 classes.\n"
     ]
    }
   ],
   "source": [
    "# transformations to the dataset to prevent overfitting\n",
    "# data with real time data augmentation\n",
    "train_datagen = ImageDataGenerator(\n",
    "    #rescale helps us doing feature scaling to each pixel(like normalization)\n",
    "        rescale=1./255,\n",
    "        shear_range=0.2,\n",
    "        zoom_range=0.2,\n",
    "        horizontal_flip=True)\n",
    "\n",
    "# this imports the dataset\n",
    "training_set = train_datagen.flow_from_directory(\n",
    "    \n",
    "    'dataset/training_set',\n",
    "    #the size of the image that enters to the CNN\n",
    "    target_size=(64,64),\n",
    "    batch_size=32,\n",
    "    #the output\n",
    "    class_mode='binary'    \n",
    ")"
   ]
  },
  {
   "cell_type": "markdown",
   "metadata": {},
   "source": [
    "## Preprocessing the test set"
   ]
  },
  {
   "cell_type": "code",
   "execution_count": 3,
   "metadata": {},
   "outputs": [
    {
     "name": "stdout",
     "output_type": "stream",
     "text": [
      "Found 2000 images belonging to 2 classes.\n"
     ]
    }
   ],
   "source": [
    "# different transformations\n",
    "test_datagen = ImageDataGenerator(rescale=1./255)\n",
    "\n",
    "test_set = test_datagen.flow_from_directory(\n",
    "\n",
    "    'dataset/test_set/',\n",
    "    target_size=(64,64),\n",
    "    batch_size=32,\n",
    "    #the output\n",
    "    class_mode='binary' \n",
    ")"
   ]
  },
  {
   "cell_type": "markdown",
   "metadata": {},
   "source": [
    "# Building the CNN"
   ]
  },
  {
   "cell_type": "markdown",
   "metadata": {},
   "source": [
    "### Initializing the CNN"
   ]
  },
  {
   "cell_type": "code",
   "execution_count": 5,
   "metadata": {},
   "outputs": [],
   "source": [
    "cnn = tf.keras.models.Sequential()"
   ]
  },
  {
   "cell_type": "markdown",
   "metadata": {},
   "source": [
    "### Convolution"
   ]
  },
  {
   "cell_type": "code",
   "execution_count": 10,
   "metadata": {},
   "outputs": [],
   "source": [
    "cnn.add(\n",
    "\n",
    "    #the input shape is specified only at the beginning, in the first layer\n",
    "    tf.keras.layers.Conv2D(filters=32, kernel_size=3, activation='relu',input_shape=[64,64,3])\n",
    "\n",
    ")"
   ]
  },
  {
   "cell_type": "markdown",
   "metadata": {},
   "source": [
    "### Pooling"
   ]
  },
  {
   "cell_type": "code",
   "execution_count": 7,
   "metadata": {},
   "outputs": [],
   "source": [
    "cnn.add(\n",
    "    \n",
    "    tf.keras.layers.MaxPool2D(pool_size=2, strides=2)\n",
    ")"
   ]
  },
  {
   "cell_type": "markdown",
   "metadata": {},
   "source": [
    "## Adding a second convolutional layer"
   ]
  },
  {
   "cell_type": "markdown",
   "metadata": {},
   "source": [
    "### Convolution"
   ]
  },
  {
   "cell_type": "code",
   "execution_count": 8,
   "metadata": {},
   "outputs": [],
   "source": [
    "cnn.add(\n",
    "\n",
    "    tf.keras.layers.Conv2D(filters=32, kernel_size=3, activation='relu')\n",
    "\n",
    ")"
   ]
  },
  {
   "cell_type": "markdown",
   "metadata": {},
   "source": [
    "### Pooling"
   ]
  },
  {
   "cell_type": "code",
   "execution_count": 9,
   "metadata": {},
   "outputs": [],
   "source": [
    "cnn.add(\n",
    "    \n",
    "    tf.keras.layers.MaxPool2D(pool_size=2, strides=2)\n",
    ")"
   ]
  },
  {
   "cell_type": "markdown",
   "metadata": {},
   "source": [
    "## Flattening"
   ]
  },
  {
   "cell_type": "code",
   "execution_count": 11,
   "metadata": {},
   "outputs": [],
   "source": [
    "cnn.add(\n",
    "    \n",
    "    tf.keras.layers.Flatten()\n",
    ")"
   ]
  },
  {
   "cell_type": "markdown",
   "metadata": {},
   "source": [
    "## Full connection"
   ]
  },
  {
   "cell_type": "code",
   "execution_count": 12,
   "metadata": {},
   "outputs": [],
   "source": [
    "cnn.add(\n",
    "\n",
    "    tf.keras.layers.Dense(units=128, activation='relu')\n",
    "\n",
    ")"
   ]
  },
  {
   "cell_type": "markdown",
   "metadata": {},
   "source": [
    "## Output layer"
   ]
  },
  {
   "cell_type": "code",
   "execution_count": 14,
   "metadata": {},
   "outputs": [],
   "source": [
    "cnn.add(\n",
    "        #sigmoid bc it is binary, otherwise it should be softmax\n",
    "    tf.keras.layers.Dense(units=1, activation='sigmoid')\n",
    "    \n",
    ")"
   ]
  },
  {
   "cell_type": "markdown",
   "metadata": {},
   "source": [
    "# Training the CNN"
   ]
  },
  {
   "cell_type": "markdown",
   "metadata": {},
   "source": [
    "## Compiling the CNN"
   ]
  },
  {
   "cell_type": "code",
   "execution_count": 15,
   "metadata": {},
   "outputs": [],
   "source": [
    "cnn.compile(optimizer='adam', loss='binary_crossentropy', metrics=['accuracy'])"
   ]
  },
  {
   "cell_type": "markdown",
   "metadata": {},
   "source": [
    "## Training the CNN on the training set and evaluating it on the test set"
   ]
  },
  {
   "cell_type": "code",
   "execution_count": 16,
   "metadata": {},
   "outputs": [
    {
     "name": "stdout",
     "output_type": "stream",
     "text": [
      "Epoch 1/25\n",
      "250/250 [==============================] - 51s 200ms/step - loss: 0.6948 - accuracy: 0.4993 - val_loss: 0.6931 - val_accuracy: 0.5000\n",
      "Epoch 2/25\n",
      "250/250 [==============================] - 43s 172ms/step - loss: 0.6932 - accuracy: 0.4945 - val_loss: 0.6931 - val_accuracy: 0.5000\n",
      "Epoch 3/25\n",
      "250/250 [==============================] - 43s 171ms/step - loss: 0.6931 - accuracy: 0.5120 - val_loss: 0.6931 - val_accuracy: 0.5000\n",
      "Epoch 4/25\n",
      "250/250 [==============================] - 42s 169ms/step - loss: 0.6932 - accuracy: 0.4715 - val_loss: 0.6931 - val_accuracy: 0.5000\n",
      "Epoch 5/25\n",
      "250/250 [==============================] - 42s 170ms/step - loss: 0.6932 - accuracy: 0.5110 - val_loss: 0.6931 - val_accuracy: 0.5000\n",
      "Epoch 6/25\n",
      "250/250 [==============================] - 45s 179ms/step - loss: 0.6932 - accuracy: 0.4968 - val_loss: 0.6931 - val_accuracy: 0.5000\n",
      "Epoch 7/25\n",
      "250/250 [==============================] - 77s 308ms/step - loss: 0.6932 - accuracy: 0.5023 - val_loss: 0.6931 - val_accuracy: 0.5000\n",
      "Epoch 8/25\n",
      "250/250 [==============================] - 60s 240ms/step - loss: 0.6932 - accuracy: 0.4881 - val_loss: 0.6931 - val_accuracy: 0.5000\n",
      "Epoch 9/25\n",
      "250/250 [==============================] - 57s 229ms/step - loss: 0.6932 - accuracy: 0.5009 - val_loss: 0.6931 - val_accuracy: 0.5000\n",
      "Epoch 10/25\n",
      "250/250 [==============================] - 57s 227ms/step - loss: 0.6932 - accuracy: 0.4854 - val_loss: 0.6931 - val_accuracy: 0.5000\n",
      "Epoch 11/25\n",
      "250/250 [==============================] - 56s 225ms/step - loss: 0.6932 - accuracy: 0.4944 - val_loss: 0.6931 - val_accuracy: 0.5000\n",
      "Epoch 12/25\n",
      "250/250 [==============================] - 56s 225ms/step - loss: 0.6932 - accuracy: 0.4837 - val_loss: 0.6931 - val_accuracy: 0.5000\n",
      "Epoch 13/25\n",
      "250/250 [==============================] - 56s 223ms/step - loss: 0.6931 - accuracy: 0.5046 - val_loss: 0.6931 - val_accuracy: 0.5000\n",
      "Epoch 14/25\n",
      "250/250 [==============================] - 65s 258ms/step - loss: 0.6932 - accuracy: 0.5022 - val_loss: 0.6931 - val_accuracy: 0.5000\n",
      "Epoch 15/25\n",
      "250/250 [==============================] - 69s 275ms/step - loss: 0.6932 - accuracy: 0.4971 - val_loss: 0.6931 - val_accuracy: 0.5000\n",
      "Epoch 16/25\n",
      "250/250 [==============================] - 60s 239ms/step - loss: 0.6932 - accuracy: 0.5029 - val_loss: 0.6931 - val_accuracy: 0.5000\n",
      "Epoch 17/25\n",
      "250/250 [==============================] - 54s 215ms/step - loss: 0.6931 - accuracy: 0.4957 - val_loss: 0.6931 - val_accuracy: 0.5000\n",
      "Epoch 18/25\n",
      "250/250 [==============================] - 50s 199ms/step - loss: 0.6932 - accuracy: 0.4866 - val_loss: 0.6932 - val_accuracy: 0.5000\n",
      "Epoch 19/25\n",
      "250/250 [==============================] - 51s 204ms/step - loss: 0.6932 - accuracy: 0.4853 - val_loss: 0.6932 - val_accuracy: 0.5000\n",
      "Epoch 20/25\n",
      "250/250 [==============================] - 49s 197ms/step - loss: 0.6932 - accuracy: 0.4958 - val_loss: 0.6931 - val_accuracy: 0.5000\n",
      "Epoch 21/25\n",
      "250/250 [==============================] - 49s 195ms/step - loss: 0.6932 - accuracy: 0.4994 - val_loss: 0.6931 - val_accuracy: 0.5000\n",
      "Epoch 22/25\n",
      "250/250 [==============================] - 46s 184ms/step - loss: 0.6932 - accuracy: 0.5017 - val_loss: 0.6931 - val_accuracy: 0.5000\n",
      "Epoch 23/25\n",
      "250/250 [==============================] - 48s 191ms/step - loss: 0.6932 - accuracy: 0.4907 - val_loss: 0.6931 - val_accuracy: 0.5000\n",
      "Epoch 24/25\n",
      "250/250 [==============================] - 46s 185ms/step - loss: 0.6932 - accuracy: 0.4987 - val_loss: 0.6932 - val_accuracy: 0.5000\n",
      "Epoch 25/25\n",
      "250/250 [==============================] - 47s 188ms/step - loss: 0.6932 - accuracy: 0.4946 - val_loss: 0.6931 - val_accuracy: 0.5000\n"
     ]
    },
    {
     "data": {
      "text/plain": [
       "<tensorflow.python.keras.callbacks.History at 0x2c75dc8a248>"
      ]
     },
     "execution_count": 16,
     "metadata": {},
     "output_type": "execute_result"
    }
   ],
   "source": [
    "cnn.fit(x=training_set, validation_data=test_set, epochs=25)"
   ]
  },
  {
   "cell_type": "markdown",
   "metadata": {},
   "source": [
    "# Making a prediction"
   ]
  },
  {
   "cell_type": "code",
   "execution_count": 20,
   "metadata": {},
   "outputs": [
    {
     "name": "stdout",
     "output_type": "stream",
     "text": [
      "Dog [[0.50109]]\n"
     ]
    }
   ],
   "source": [
    "import numpy as np\n",
    "from keras.preprocessing import image\n",
    "\n",
    "test_image = image.load_img('dataset/single_prediction/cat_or_dog_1.jpg', target_size=(64,64))\n",
    "test_image = image.img_to_array(test_image)\n",
    "# adding a dimension refered to the batch size bc it was trained with a batch of 32, so it must be the same\n",
    "test_image = np.expand_dims(test_image,axis=0)\n",
    "\n",
    "result = cnn.predict(x=test_image)\n",
    "\n",
    "training_set.class_indices\n",
    "\n",
    "if result[0][0] > 0.5:\n",
    "    print('Dog', result)\n",
    "else: \n",
    "    print('Cat', result)\n",
    "        "
   ]
  },
  {
   "cell_type": "code",
   "execution_count": 21,
   "metadata": {},
   "outputs": [
    {
     "name": "stdout",
     "output_type": "stream",
     "text": [
      "Dog [[0.50109]]\n"
     ]
    }
   ],
   "source": [
    "test_image = image.load_img('dataset/single_prediction/cat_or_dog_2.jpg', target_size=(64,64))\n",
    "test_image = image.img_to_array(test_image)\n",
    "# adding a dimension refered to the batch size bc it was trained with a batch of 32, so it must be the same\n",
    "test_image = np.expand_dims(test_image,axis=0)\n",
    "\n",
    "result = cnn.predict(x=test_image)\n",
    "\n",
    "training_set.class_indices\n",
    "\n",
    "if result[0][0] > 0.5:\n",
    "    print('Dog', result)\n",
    "else: \n",
    "    print('Cat', result)\n",
    "        "
   ]
  },
  {
   "cell_type": "code",
   "execution_count": null,
   "metadata": {},
   "outputs": [],
   "source": []
  }
 ],
 "metadata": {
  "kernelspec": {
   "display_name": "TF2.4_PY3.7",
   "language": "python",
   "name": "tf2.4_py3.7"
  },
  "language_info": {
   "codemirror_mode": {
    "name": "ipython",
    "version": 3
   },
   "file_extension": ".py",
   "mimetype": "text/x-python",
   "name": "python",
   "nbconvert_exporter": "python",
   "pygments_lexer": "ipython3",
   "version": "3.7.10"
  }
 },
 "nbformat": 4,
 "nbformat_minor": 4
}
